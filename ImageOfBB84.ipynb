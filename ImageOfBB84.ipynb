{
 "cells": [
  {
   "cell_type": "markdown",
   "id": "9b29a77a-195e-4a6b-8ea3-a4de79daa278",
   "metadata": {},
   "source": [
    "# 量子ビットを理解する（量子鍵配送BB84）"
   ]
  },
  {
   "cell_type": "code",
   "execution_count": null,
   "id": "9a94ad8b-c862-4b8c-97a9-01d5cb64b157",
   "metadata": {},
   "outputs": [],
   "source": [
    "!pip install -U pip\n",
    "!pip install numpy matplotlib ipython "
   ]
  },
  {
   "cell_type": "code",
   "execution_count": 1,
   "id": "305f407c-2afb-41c8-bc11-a86fb61295de",
   "metadata": {},
   "outputs": [],
   "source": [
    "import numpy as np\n",
    "import math\n",
    "import matplotlib.pyplot as plt\n",
    "from mpl_toolkits.mplot3d import Axes3D\n",
    "import matplotlib.patches as patches"
   ]
  },
  {
   "cell_type": "markdown",
   "id": "91d71c1a-b613-4d2d-b554-aa2e92e4c1dc",
   "metadata": {},
   "source": [
    "## 初期状態の設定"
   ]
  },
  {
   "cell_type": "code",
   "execution_count": 2,
   "id": "775620c4-d8a9-407c-ad63-502247a15957",
   "metadata": {},
   "outputs": [],
   "source": [
    "#量子bit×3の生成\n",
    "import dataclasses\n",
    "@dataclasses.dataclass\n",
    "class Qbit:\n",
    "    phi: float # ブロッホ球での|0>からの角度\n",
    "    shift: float # 位相差\n",
    "\n",
    "#量子bit0\n",
    "Q1 = Qbit(math.pi*0,math.pi*0)"
   ]
  },
  {
   "cell_type": "markdown",
   "id": "3cbe6cbf-64de-4d7c-b27d-696bf47d132f",
   "metadata": {},
   "source": [
    "## 諸元算出"
   ]
  },
  {
   "cell_type": "code",
   "execution_count": 3,
   "id": "e6fed364-abb3-4d0e-9b36-d5aadfe3dbf4",
   "metadata": {},
   "outputs": [],
   "source": [
    "def createYo():\n",
    "    yo = np.arange(0,2,0.001)*math.pi\n",
    "    return yo\n",
    "\n",
    "def createBy1bit(q_0:Qbit):\n",
    "    # 初期の各量子bit列の波の軸\n",
    "    yo = createYo()\n",
    "    q0 = math.cos(q_0.phi/2) * np.sin(yo)\n",
    "    q1 = math.sin(q_0.phi/2) * np.sin(yo-q_0.shift)\n",
    "    return q0,q1\n",
    "\n",
    "def createBy2bit(q_1:Qbit,q_2:Qbit):\n",
    "    # 初期の各量子bit列の波の軸\n",
    "    yo  = createYo()\n",
    "    q00 = (math.cos(q_1.phi/2) * math.cos(q_2.phi/2))*np.sin(yo)\n",
    "    q01 = (math.cos(q_1.phi/2) * math.sin(q_2.phi/2))*np.sin(yo-(q_2.shift))\n",
    "    q10 = (math.sin(q_1.phi/2) * math.cos(q_2.phi/2))*np.sin(yo-(q_1.shift))\n",
    "    q11 = (math.sin(q_1.phi/2) * math.sin(q_2.phi/2))*np.sin(yo-(q_1.shift+q_2.shift))\n",
    "    return q00,q01,q10,q11\n",
    "\n",
    "def createBy3bit(q_1:Qbit,q_2:Qbit,q_3:Qbit):\n",
    "    # 初期の各量子bit列の波の軸\n",
    "    yo  = createYo()\n",
    "    q000 = (math.cos(q_1.phi/2) * math.cos(q_2.phi/2) * math.cos(q_3.phi/2))*np.sin(yo)\n",
    "    q001 = (math.cos(q_1.phi/2) * math.cos(q_2.phi/2) * math.sin(q_3.phi/2))*np.sin(yo-(q_3.shift))\n",
    "    q010 = (math.cos(q_1.phi/2) * math.sin(q_2.phi/2) * math.cos(q_3.phi/2))*np.sin(yo-(q_2.shift))\n",
    "    q011 = (math.cos(q_1.phi/2) * math.sin(q_2.phi/2) * math.sin(q_3.phi/2))*np.sin(yo-(q_2.shift+q_3.shift))\n",
    "    q100 = (math.sin(q_1.phi/2) * math.cos(q_2.phi/2) * math.cos(q_3.phi/2))*np.sin(yo-(q_1.shift))\n",
    "    q101 = (math.sin(q_1.phi/2) * math.cos(q_2.phi/2) * math.sin(q_3.phi/2))*np.sin(yo-(q_1.shift+q_3.shift))\n",
    "    q110 = (math.sin(q_1.phi/2) * math.sin(q_2.phi/2) * math.cos(q_3.phi/2))*np.sin(yo-(q_1.shift+q_2.shift))\n",
    "    q111 = (math.sin(q_1.phi/2) * math.sin(q_2.phi/2) * math.sin(q_3.phi/2))*np.sin(yo-(q_1.shift+q_2.shift+q_3.shift))\n",
    "    return q000,q001,q010,q011,q100,q101,q110,q111\n",
    "\n",
    "def createBy4bit(q1:Qbit,q2:Qbit,q3:Qbit,q4:Qbit):\n",
    "    # 初期の各量子bit列の波の軸\n",
    "    yo  = createYo()\n",
    "    q0000 = (math.cos(q1.phi/2) * math.cos(q2.phi/2) * math.cos(q3.phi/2)* math.cos(q4.phi/2)) *np.sin(yo)\n",
    "    q0001 = (math.cos(q1.phi/2) * math.cos(q2.phi/2) * math.cos(q3.phi/2)* math.sin(q4.phi/2)) *np.sin(yo-(                           q4.shift))\n",
    "    q0010 = (math.cos(q1.phi/2) * math.cos(q2.phi/2) * math.sin(q3.phi/2)* math.cos(q4.phi/2)) *np.sin(yo-(                  q3.shift))\n",
    "    q0011 = (math.cos(q1.phi/2) * math.cos(q2.phi/2) * math.sin(q3.phi/2)* math.sin(q4.phi/2)) *np.sin(yo-(                  q3.shift+q4.shift))\n",
    "    q0100 = (math.cos(q1.phi/2) * math.sin(q2.phi/2) * math.cos(q3.phi/2)* math.cos(q4.phi/2)) *np.sin(yo-(         q2.shift))\n",
    "    q0101 = (math.cos(q1.phi/2) * math.sin(q2.phi/2) * math.cos(q3.phi/2)* math.sin(q4.phi/2)) *np.sin(yo-(         q2.shift+         q4.shift))\n",
    "    q0110 = (math.cos(q1.phi/2) * math.sin(q2.phi/2) * math.sin(q3.phi/2)* math.cos(q4.phi/2)) *np.sin(yo-(         q2.shift+q3.shift))\n",
    "    q0111 = (math.cos(q1.phi/2) * math.sin(q2.phi/2) * math.sin(q3.phi/2)* math.sin(q4.phi/2)) *np.sin(yo-(         q2.shift+q3.shift+q4.shift))\n",
    "    q1000 = (math.sin(q1.phi/2) * math.cos(q2.phi/2) * math.cos(q3.phi/2)* math.cos(q4.phi/2)) *np.sin(yo-(q1.shift))\n",
    "    q1001 = (math.sin(q1.phi/2) * math.cos(q2.phi/2) * math.cos(q3.phi/2)* math.sin(q4.phi/2)) *np.sin(yo-(q1.shift+                  q4.shift))\n",
    "    q1010 = (math.sin(q1.phi/2) * math.cos(q2.phi/2) * math.sin(q3.phi/2)* math.cos(q4.phi/2)) *np.sin(yo-(q1.shift+         q3.shift))\n",
    "    q1011 = (math.sin(q1.phi/2) * math.cos(q2.phi/2) * math.sin(q3.phi/2)* math.sin(q4.phi/2)) *np.sin(yo-(q1.shift+         q3.shift+q4.shift))\n",
    "    q1100 = (math.sin(q1.phi/2) * math.sin(q2.phi/2) * math.cos(q3.phi/2)* math.cos(q4.phi/2)) *np.sin(yo-(q1.shift+q2.shift))\n",
    "    q1101 = (math.sin(q1.phi/2) * math.sin(q2.phi/2) * math.cos(q3.phi/2)* math.sin(q4.phi/2)) *np.sin(yo-(q1.shift+q2.shift+         q4.shift))\n",
    "    q1110 = (math.sin(q1.phi/2) * math.sin(q2.phi/2) * math.sin(q3.phi/2)* math.cos(q4.phi/2)) *np.sin(yo-(q1.shift+q2.shift+q3.shift))\n",
    "    q1111 = (math.sin(q1.phi/2) * math.sin(q2.phi/2) * math.sin(q3.phi/2)* math.sin(q4.phi/2)) *np.sin(yo-(q1.shift+q2.shift+q3.shift+q4.shift))\n",
    "    \n",
    "    return q0000,q0001,q0010,q0011,q0100,q0101,q0110,q0111,q1000,q1001,q1010,q1011,q1100,q1101,q1110,q1111"
   ]
  },
  {
   "cell_type": "markdown",
   "id": "775a8980-0cb1-4e09-a295-126ca0a0d52c",
   "metadata": {},
   "source": [
    "## 描画用関数"
   ]
  },
  {
   "cell_type": "code",
   "execution_count": 4,
   "id": "20ff0dee-d387-4200-a001-5ada17b0c19a",
   "metadata": {},
   "outputs": [],
   "source": [
    "# 波描画\n",
    "def set_wave_ax(ax,q,title):\n",
    "    yo = createYo()\n",
    "    ax.plot(yo,q)\n",
    "    ax.set_xticks([0, math.pi*0.5 ,math.pi, math.pi*1.5 ,math.pi*2], [\"0\", \"1/2π\", \"π\",\"3/2π\",\"2π\"])\n",
    "    ax.set_ylim(-1.1,1.1)\n",
    "    ax.set_xlim(0,math.pi*2)\n",
    "    ax.set_title(title)\n",
    "    return ax\n",
    "    \n",
    "def draw_8waves(q000,q001,q010,q011,q100,q101,q110,q111):\n",
    "    fig = plt.figure(figsize=(16,16)) #図のサイズを決定\n",
    "    ax_000 = fig.add_subplot(4,2,1)\n",
    "    ax_001 = fig.add_subplot(4,2,2)\n",
    "    ax_010 = fig.add_subplot(4,2,3)\n",
    "    ax_011 = fig.add_subplot(4,2,4)\n",
    "    ax_100 = fig.add_subplot(4,2,5)\n",
    "    ax_101 = fig.add_subplot(4,2,6)\n",
    "    ax_110 = fig.add_subplot(4,2,7)\n",
    "    ax_111 = fig.add_subplot(4,2,8)\n",
    "\n",
    "    ax_000 = set_wave_ax(ax_000,q000,\"|000>\")\n",
    "    ax_001 = set_wave_ax(ax_001,q001,\"|001>\")\n",
    "    ax_010 = set_wave_ax(ax_010,q010,\"|010>\")\n",
    "    ax_011 = set_wave_ax(ax_011,q011,\"|011>\")\n",
    "    ax_100 = set_wave_ax(ax_100,q100,\"|100>\")\n",
    "    ax_101 = set_wave_ax(ax_101,q101,\"|101>\")\n",
    "    ax_110 = set_wave_ax(ax_110,q110,\"|110>\")\n",
    "    ax_111 = set_wave_ax(ax_111,q111,\"|111>\")\n",
    "\n",
    "    plt.subplots_adjust(hspace=0.8)\n",
    "\n",
    "    plt.show()\n",
    "\n",
    "    return\n",
    "    \n",
    "def draw_4waves(q00,q01,q10,q11):\n",
    "    fig = plt.figure(figsize=(16,10)) #図のサイズを決定\n",
    "    ax_00 = fig.add_subplot(4,1,1)\n",
    "    ax_01 = fig.add_subplot(4,1,2)\n",
    "    ax_10 = fig.add_subplot(4,1,3)\n",
    "    ax_11 = fig.add_subplot(4,1,4)\n",
    "\n",
    "    ax_00 = set_wave_ax(ax_00,q00,\"|00>\")\n",
    "    ax_01 = set_wave_ax(ax_01,q01,\"|01>\")\n",
    "    ax_10 = set_wave_ax(ax_10,q10,\"|10>\")\n",
    "    ax_11 = set_wave_ax(ax_11,q11,\"|11>\")\n",
    "\n",
    "    plt.subplots_adjust(hspace=0.4)\n",
    "\n",
    "    plt.show()\n",
    "\n",
    "    return\n",
    "\n",
    "def draw_2waves(q0,q1):\n",
    "    fig = plt.figure(figsize=(16,2)) #図のサイズを決定\n",
    "    ax_0 = fig.add_subplot(1,2,1)\n",
    "    ax_1 = fig.add_subplot(1,2,2)\n",
    "\n",
    "    ax_0 = set_wave_ax(ax_0,q0,\"|0>\")\n",
    "    ax_1 = set_wave_ax(ax_1,q1,\"|1>\")\n",
    "\n",
    "    plt.subplots_adjust(hspace=0.4)\n",
    "\n",
    "    plt.show()\n",
    "\n",
    "    return"
   ]
  },
  {
   "cell_type": "code",
   "execution_count": 5,
   "id": "ad2c5909-21a4-48a6-8580-9f4ac56bd551",
   "metadata": {},
   "outputs": [],
   "source": [
    "# 振幅描画\n",
    "def draw_8amp(q000,q001,q010,q011,q100,q101,q110,q111):\n",
    "\n",
    "    from matplotlib import rcParams\n",
    "    plt.rcParams[\"font.family\"] = \"MS Gothic\"\n",
    "\n",
    "    fig = plt.figure()\n",
    "    ax = fig.subplots()\n",
    "\n",
    "    # データの準備\n",
    "    categories = ['|000>', '|001>', '|010>','|011>','|100>', '|101>', '|110>','|111>']\n",
    "    values = [max(q000)**2, max(q001)**2, max(q010)**2, max(q011)**2,max(q100)**2, max(q101)**2, max(q110)**2, max(q111)**2]\n",
    "\n",
    "    # 棒グラフの作成\n",
    "    ax.bar(categories, values)\n",
    "\n",
    "    # タイトルとラベルの追加\n",
    "    ax.set_title('振幅')\n",
    "    ax.set_ylim(0,1.1)\n",
    "\n",
    "    # グラフの表示\n",
    "    plt.show()\n",
    "\n",
    "    return\n",
    "    \n",
    "def draw_4amp(q00,q01,q10,q11):\n",
    "\n",
    "    from matplotlib import rcParams\n",
    "    plt.rcParams[\"font.family\"] = \"MS Gothic\"\n",
    "\n",
    "    fig = plt.figure()\n",
    "    ax = fig.subplots()\n",
    "\n",
    "    # データの準備\n",
    "    categories = ['|00>', '|01>', '|10>','|11>']\n",
    "    values = [max(q00)**2, max(q01)**2, max(q10)**2, max(q11)**2]\n",
    "\n",
    "    # 棒グラフの作成\n",
    "    ax.bar(categories, values)\n",
    "\n",
    "    # タイトルとラベルの追加\n",
    "    ax.set_title('振幅')\n",
    "    ax.set_ylim(0,1.1)\n",
    "\n",
    "    # グラフの表示\n",
    "    plt.show()\n",
    "\n",
    "    return\n",
    "\n",
    "def draw_2amp(q0,q1):\n",
    "\n",
    "    from matplotlib import rcParams\n",
    "    plt.rcParams[\"font.family\"] = \"MS Gothic\"\n",
    "\n",
    "    fig = plt.figure()\n",
    "    ax = fig.subplots()\n",
    "\n",
    "    # データの準備\n",
    "    categories = ['|0>', '|1>']\n",
    "    values = [max(q0)**2, max(q1)**2]\n",
    "\n",
    "    # 棒グラフの作成\n",
    "    ax.bar(categories, values)\n",
    "\n",
    "    # タイトルとラベルの追加\n",
    "    ax.set_title('振幅')\n",
    "    ax.set_ylim(0,1.1)\n",
    "\n",
    "    # グラフの表示\n",
    "    plt.show()\n",
    "\n",
    "    return"
   ]
  },
  {
   "cell_type": "code",
   "execution_count": 6,
   "id": "6d34009d-3501-48fe-abcb-4aba0b292c2d",
   "metadata": {},
   "outputs": [],
   "source": [
    "# 位相描画\n",
    "def set_phase_ax(ax,q,title):\n",
    "    shape = patches.Circle(xy=(0,0), radius=1, facecolor=\"white\", edgecolor=\"black\", linewidth=1)\n",
    "\n",
    "    s = phase_pi(q)\n",
    "\n",
    "    ax.add_patch(shape)\n",
    "    ax.plot([0,np.sin(s)],[0,np.cos(s)],color='gray')\n",
    "    ax.set_xlim(-1.1,1.1)\n",
    "    ax.set_ylim(-1.1,1.1)\n",
    "    ax.set_title(title)\n",
    "    ax.set_aspect('equal')\n",
    "    ax.axis('off')\n",
    "    if max(q) > 0.0001:\n",
    "        ax.text(-0.28,-1.35,str(round(s/math.pi,2)),color='black',fontsize=16)\n",
    "    else:\n",
    "        ax.text(-0.28,-1.35,\"---\",color='black',fontsize=16)\n",
    "    return\n",
    "    \n",
    "def draw_8phase(q000,q001,q010,q011,q100,q101,q110,q111):\n",
    "\n",
    "    fig = plt.figure(figsize=(16,3)) #図のサイズを決定\n",
    "    ax_000 = fig.add_subplot(1,8,1)\n",
    "    ax_001 = fig.add_subplot(1,8,2)\n",
    "    ax_010 = fig.add_subplot(1,8,3)\n",
    "    ax_011 = fig.add_subplot(1,8,4)\n",
    "    ax_100 = fig.add_subplot(1,8,5)\n",
    "    ax_101 = fig.add_subplot(1,8,6)\n",
    "    ax_110 = fig.add_subplot(1,8,7)\n",
    "    ax_111 = fig.add_subplot(1,8,8)\n",
    "    fig = plt.figure()\n",
    "\n",
    "    ax_000 = set_phase_ax(ax_000,q000,\"|000>\")\n",
    "    ax_001 = set_phase_ax(ax_001,q001,\"|001>\")\n",
    "    ax_010 = set_phase_ax(ax_010,q010,\"|010>\")\n",
    "    ax_011 = set_phase_ax(ax_011,q011,\"|011>\")\n",
    "    ax_100 = set_phase_ax(ax_100,q100,\"|100>\")\n",
    "    ax_101 = set_phase_ax(ax_101,q101,\"|101>\")\n",
    "    ax_110 = set_phase_ax(ax_110,q110,\"|110>\")\n",
    "    ax_111 = set_phase_ax(ax_111,q111,\"|111>\")\n",
    "\n",
    "    plt.show()\n",
    "\n",
    "    return\n",
    "\n",
    "def draw_4phase(q00,q01,q10,q11):\n",
    "\n",
    "    fig = plt.figure(figsize=(16,5)) #図のサイズを決定\n",
    "    ax_00 = fig.add_subplot(1,4,1)\n",
    "    ax_01 = fig.add_subplot(1,4,2)\n",
    "    ax_10 = fig.add_subplot(1,4,3)\n",
    "    ax_11 = fig.add_subplot(1,4,4)\n",
    "    fig = plt.figure()\n",
    "\n",
    "    ax_00 = set_phase_ax(ax_00,q00,\"|00>\")\n",
    "    ax_01 = set_phase_ax(ax_01,q01,\"|01>\")\n",
    "    ax_10 = set_phase_ax(ax_10,q10,\"|10>\")\n",
    "    ax_11 = set_phase_ax(ax_11,q11,\"|11>\")\n",
    "\n",
    "    plt.show()\n",
    "\n",
    "    return\n",
    "\n",
    "def draw_2phase(q0,q1):\n",
    "\n",
    "    fig = plt.figure(figsize=(8,4)) #図のサイズを決定\n",
    "    ax_0 = fig.add_subplot(1,2,1)\n",
    "    ax_1 = fig.add_subplot(1,2,2)\n",
    "    fig = plt.figure()\n",
    "\n",
    "    ax_0 = set_phase_ax(ax_0,q0,\"|0>\")\n",
    "    ax_1 = set_phase_ax(ax_1,q1,\"|1>\")\n",
    "\n",
    "    plt.show()\n",
    "\n",
    "    return"
   ]
  },
  {
   "cell_type": "markdown",
   "id": "a63d1bf9-e6c3-499b-9816-ca11a43be100",
   "metadata": {},
   "source": [
    "# 以下 関数の定義"
   ]
  },
  {
   "cell_type": "markdown",
   "id": "03102651-0cb1-4b15-a21c-6af559d87767",
   "metadata": {},
   "source": [
    "# 単量子ゲート"
   ]
  },
  {
   "cell_type": "markdown",
   "id": "7d40c749-4184-47cb-a5b1-fea959e8a164",
   "metadata": {},
   "source": [
    "### アダマールゲート\n",
    "$$\n",
    "H =\n",
    "\\frac{1}{\\sqrt{2}}\n",
    "\\begin{pmatrix}\n",
    "1 & 1 \\\\\n",
    "1 & -1\n",
    "\\end{pmatrix}\n",
    "$$"
   ]
  },
  {
   "cell_type": "code",
   "execution_count": 7,
   "id": "e606a353-248b-4502-906f-4c5c383ca167",
   "metadata": {},
   "outputs": [],
   "source": [
    "#アダマール変換 \n",
    "# やっていること：|1>を反転させ、反時計周りに1/4π回転させる\n",
    "def h_gate(x,z):\n",
    "    x_ = ( x + z)/2**0.5\n",
    "    z_ = ( x - z)/2**0.5\n",
    "    return x_,z_"
   ]
  },
  {
   "cell_type": "markdown",
   "id": "ef0a3833-f84d-4641-bfa7-c3b77ae39fdd",
   "metadata": {},
   "source": [
    "### Tゲート\n",
    "$$\n",
    "T =\n",
    "\\begin{pmatrix}\n",
    "1 & 0 \\\\\n",
    "0 & exp(\\frac{i\\pi}{4})\n",
    "\\end{pmatrix}\n",
    "$$"
   ]
  },
  {
   "cell_type": "code",
   "execution_count": 8,
   "id": "ac406ee7-2ab2-45df-aac1-6a949cbb4753",
   "metadata": {},
   "outputs": [],
   "source": [
    "#Tゲート変換 \n",
    "# やっていること：|1>の位相を1/4π（45°）進める\n",
    "def t_gate(x,z):\n",
    "    x_ = x\n",
    "    z_ = np.roll(z,len(z)//8)\n",
    "    return x_,z_"
   ]
  },
  {
   "cell_type": "markdown",
   "id": "9d8d997a-5afb-48e3-bc29-d715af97a00b",
   "metadata": {},
   "source": [
    "### Sゲート\n",
    "$$\n",
    "S =\n",
    "\\begin{pmatrix}\n",
    "1 & 0 \\\\\n",
    "0 & exp(\\frac{i\\pi}{2})\n",
    "\\end{pmatrix}\n",
    "$$"
   ]
  },
  {
   "cell_type": "code",
   "execution_count": 9,
   "id": "5d55f4f2-32e9-4006-b61f-c708091f233c",
   "metadata": {},
   "outputs": [],
   "source": [
    "#Sゲート変換 \n",
    "# やっていること：|1>の位相を1/2π（90°）進める\n",
    "def s_gate(x,z):\n",
    "    x_ = x\n",
    "    z_ = np.roll(z,len(z)//4)\n",
    "    return x_,z_"
   ]
  },
  {
   "cell_type": "markdown",
   "id": "5a154ee6-fe4b-4dcb-ade4-8f060078e95e",
   "metadata": {},
   "source": [
    "### Xゲート\n",
    "$$\n",
    "X =\n",
    "\\begin{pmatrix}\n",
    "0 & 1 \\\\\n",
    "1 & 0\n",
    "\\end{pmatrix}\n",
    "$$"
   ]
  },
  {
   "cell_type": "code",
   "execution_count": 10,
   "id": "3de3d443-5a2c-4efd-a2f0-a0a31a7ff886",
   "metadata": {},
   "outputs": [],
   "source": [
    "#Xゲート変換 \n",
    "# やっていること：|0>←→|1>を交換する\n",
    "def x_gate(x,z):\n",
    "    x_ = z\n",
    "    z_ = x\n",
    "    return x_,z_"
   ]
  },
  {
   "cell_type": "markdown",
   "id": "0e275276-05e0-44b1-a686-9093dfddddf9",
   "metadata": {},
   "source": [
    "### Yゲート\n",
    "$$\n",
    "Y =\n",
    "\\begin{pmatrix}\n",
    "0 & exp(\\frac{-i\\pi}{2}) \\\\\n",
    "exp(\\frac{i\\pi}{2})  & 0\n",
    "\\end{pmatrix}\n",
    "$$"
   ]
  },
  {
   "cell_type": "code",
   "execution_count": 11,
   "id": "2ffab3a3-78c1-4e1f-a737-0e9ab19ad67a",
   "metadata": {},
   "outputs": [],
   "source": [
    "#Yゲート変換 \n",
    "# やっていること：|0>→i|1>、|1>→-i|0>\n",
    "def y_gate(x,z):\n",
    "    x_ = np.roll(z,(len(z)+1)//4)\n",
    "    z_ = np.roll(x,-(len(x)+1)//4)\n",
    "    return x_,z_"
   ]
  },
  {
   "cell_type": "markdown",
   "id": "16564039-1c1c-466c-a6ac-dab094d5dc61",
   "metadata": {},
   "source": [
    "### Zゲート\n",
    "$$\n",
    "Z =\n",
    "\\begin{pmatrix}\n",
    "1 & 0 \\\\\n",
    "0 & -1\n",
    "\\end{pmatrix}\n",
    "$$"
   ]
  },
  {
   "cell_type": "code",
   "execution_count": 12,
   "id": "3cf23fc9-1a9a-4737-a27d-f69160627a82",
   "metadata": {},
   "outputs": [],
   "source": [
    "#Zゲート変換 \n",
    "# やっていること：|1>の符号を反転させる\n",
    "def z_gate(x,z):\n",
    "    x_ = x\n",
    "    z_ = -z\n",
    "    return x_,z_"
   ]
  },
  {
   "cell_type": "markdown",
   "id": "8d000241-543f-4231-a0cb-6a3b8e9f6964",
   "metadata": {},
   "source": [
    "## 位相判定"
   ]
  },
  {
   "cell_type": "code",
   "execution_count": 13,
   "id": "acbee553-f060-4eb2-9e43-b78e3bb15595",
   "metadata": {},
   "outputs": [],
   "source": [
    "def phase(x):\n",
    "    i = 0\n",
    "    if max(x) < 0.00001:\n",
    "        return 0\n",
    "    for i in range(len(x)+1):\n",
    "        if x[i%len(x)] <= 0.00001:#本来は0.0とすべきであるが、誤差を考慮し微小値を基準とした\n",
    "            if x[(i+1)%len(x)] > 0.0:\n",
    "                break\n",
    "    return i%len(x)"
   ]
  },
  {
   "cell_type": "code",
   "execution_count": 14,
   "id": "6d8f51a6-0779-4603-ab6d-10c4572093d2",
   "metadata": {},
   "outputs": [],
   "source": [
    "def phase_pi(x):\n",
    "    return phase(x)/len(x)*2*math.pi"
   ]
  },
  {
   "cell_type": "markdown",
   "id": "5c6bd1f3-7345-4db7-a520-a294f559668d",
   "metadata": {},
   "source": [
    "## ２量子ゲート"
   ]
  },
  {
   "cell_type": "markdown",
   "id": "476be4aa-e83b-4609-b9fa-86a7d7791934",
   "metadata": {},
   "source": [
    "## アダマールゲート\n",
    "\n",
    "### 上下位ビットに対するゲート操作\n",
    "$\n",
    "H\n",
    "\\otimes\n",
    "H =\n",
    "\\frac{1}{\\sqrt{2}}\n",
    "\\begin{pmatrix}\n",
    "1\n",
    "\\otimes\n",
    "H\n",
    "&\n",
    "1\n",
    "\\otimes\n",
    "H\n",
    "\\\\\n",
    "1\n",
    "\\otimes\n",
    "H\n",
    "&\n",
    "-1\n",
    "\\otimes\n",
    "H\n",
    "\\end{pmatrix}\n",
    "=\n",
    "\\frac{1}{2}\n",
    "\\begin{pmatrix}\n",
    "1 & 1 & 1 & 1 \\\\\n",
    "1 & -1 & 1 & -1 \\\\\n",
    "1 & 1 & -1 & -1 \\\\\n",
    "1 & -1 & -1 & 1\n",
    "\\end{pmatrix}\n",
    "$"
   ]
  },
  {
   "cell_type": "code",
   "execution_count": 15,
   "id": "0386517b-f5f1-4822-92b7-01806f4a2b8f",
   "metadata": {},
   "outputs": [],
   "source": [
    "def hh_gate(q00,q01,q10,q11):\n",
    "    q00_ = (q00+q01+q10+q11)*0.5\n",
    "    q01_ = (q00-q01+q10-q11)*0.5\n",
    "    q10_ = (q00+q01-q10-q11)*0.5\n",
    "    q11_ = (q00-q01-q10+q11)*0.5\n",
    "    return q00_,q01_,q10_,q11_"
   ]
  },
  {
   "cell_type": "markdown",
   "id": "315512e5-a687-4592-a5ed-0930b0901852",
   "metadata": {},
   "source": [
    "### SWAP\n",
    "$\n",
    "\\begin{pmatrix}\n",
    "1 & 0 & 0 & 0 \\\\\n",
    "0 & 0 & 1 & 0 \\\\\n",
    "0 & 1 & 0 & 0 \\\\\n",
    "0 & 0 & 0 & 1\n",
    "\\end{pmatrix}\n",
    "$"
   ]
  },
  {
   "cell_type": "code",
   "execution_count": 16,
   "id": "0a593f4c-45d6-4d59-bd07-50ac945a200b",
   "metadata": {},
   "outputs": [],
   "source": [
    "#SWAP\n",
    "def swap(q01,q10):\n",
    "    q01_,q10_ = x_gate(q01,q10)\n",
    "    return q01_,q10_"
   ]
  },
  {
   "cell_type": "markdown",
   "id": "73407a61-f63f-4f05-bbfc-f524dcd64f78",
   "metadata": {},
   "source": [
    "### CX(high bit control)\n",
    "$\n",
    "\\begin{pmatrix}\n",
    "1 & 0 & 0 & 0 \\\\\n",
    "0 & 1 & 0 & 0 \\\\\n",
    "0 & 0 & 0 & 1 \\\\\n",
    "0 & 0 & 1 & 0\n",
    "\\end{pmatrix}\n",
    "$\n",
    "\n",
    "### CX(low bit control)\n",
    "$\n",
    "\\begin{pmatrix}\n",
    "1 & 0 & 0 & 0 \\\\\n",
    "0 & 0 & 0 & 1 \\\\\n",
    "0 & 0 & 1 & 0 \\\\\n",
    "0 & 1 & 0 & 0\n",
    "\\end{pmatrix}\n",
    "$"
   ]
  },
  {
   "cell_type": "code",
   "execution_count": 17,
   "id": "74157eb5-b928-4cdd-8dd0-a47c9d77bb49",
   "metadata": {},
   "outputs": [],
   "source": [
    "#cx(Highをコントロールビット、lowを標的ビットとした場合)\n",
    "def cx_high_control(q00,q01,q10,q11):\n",
    "    q10_,q11_ = x_gate(q10,q11)\n",
    "    return q00,q01,q10_,q11_"
   ]
  },
  {
   "cell_type": "code",
   "execution_count": 18,
   "id": "47058ccc-6d09-44cd-a124-79539401ea30",
   "metadata": {},
   "outputs": [],
   "source": [
    "#cx(Highを標的ビット、lowをコントロールビットとした場合)\n",
    "def cx_low_control(q00,q01,q10,q11):\n",
    "    q01_,q11_ = x_gate(q01,q11)\n",
    "    return q00,q01_,q10,q11_"
   ]
  },
  {
   "cell_type": "markdown",
   "id": "f225cc82-d41a-4a92-b227-9af350ef4f06",
   "metadata": {},
   "source": [
    "## X$\\otimes$Xゲート\n",
    "$\n",
    "X\n",
    "\\otimes\n",
    "X =\n",
    "\\begin{pmatrix}\n",
    "0\n",
    "\\otimes\n",
    "X\n",
    "&\n",
    "1\n",
    "\\otimes\n",
    "X\n",
    "\\\\\n",
    "1\n",
    "\\otimes\n",
    "X\n",
    "&\n",
    "0\n",
    "\\otimes\n",
    "X\n",
    "\\end{pmatrix}\n",
    "=\n",
    "\\begin{pmatrix}\n",
    "0 & 0 & 0 & 1 \\\\\n",
    "0 & 0 & 1 & 0 \\\\\n",
    "0 & 1 & 0 & 0 \\\\\n",
    "1 & 0 & 0 & 0\n",
    "\\end{pmatrix}\n",
    "$"
   ]
  },
  {
   "cell_type": "code",
   "execution_count": 19,
   "id": "58201be6-d98e-4e01-b9ce-878487380dad",
   "metadata": {},
   "outputs": [],
   "source": [
    "def xx_gate(q00,q01,q10,q11):\n",
    "    q01_,q10_ = x_gate(q01,q10)\n",
    "    q00_,q11_ = x_gate(q00,q11)\n",
    "    return q00_,q01_,q10_,q11_"
   ]
  },
  {
   "cell_type": "markdown",
   "id": "3f071820-b5d8-40aa-a21e-c7fe351e4551",
   "metadata": {},
   "source": [
    "## 汎用Zゲート"
   ]
  },
  {
   "cell_type": "code",
   "execution_count": 20,
   "id": "806e4983-9c45-4116-a937-e661ee9926e2",
   "metadata": {},
   "outputs": [],
   "source": [
    "#汎用Zゲート \n",
    "def z_gate(q00,q01,q10,q11,target):\n",
    "    if target=='00':\n",
    "      q00_ = -q00\n",
    "      q01_ = q01\n",
    "      q10_ = q10\n",
    "      q11_ = q11\n",
    "    elif target=='01':\n",
    "      q00_ = q00\n",
    "      q01_ = -q01\n",
    "      q10_ = q10\n",
    "      q11_ = q11\n",
    "    elif target=='10':\n",
    "      q00_ = q00\n",
    "      q01_ = q01\n",
    "      q10_ = -q10\n",
    "      q11_ = q11 \n",
    "    elif target=='11':\n",
    "      q00_ = q00\n",
    "      q01_ = q01\n",
    "      q10_ = q10\n",
    "      q11_ = -q11\n",
    "    else:\n",
    "      q00_ = q00\n",
    "      q01_ = q01\n",
    "      q10_ = q10\n",
    "      q11_ = q11\n",
    "      print('CZ gate not changed')\n",
    "    return q00_,q01_,q10_,q11_"
   ]
  },
  {
   "cell_type": "markdown",
   "id": "e6f7fc95-f301-4308-af6c-8b1746e4cbe9",
   "metadata": {},
   "source": [
    "### グローバル位相のキャンセル"
   ]
  },
  {
   "cell_type": "code",
   "execution_count": 21,
   "id": "98dfa5e8-4735-484b-9412-1affc87f8998",
   "metadata": {},
   "outputs": [],
   "source": [
    "def global_phase4(x00,x01,x10,x11):\n",
    "    if max(x00) >= 0.00001:\n",
    "        x = x00\n",
    "    elif max(x01) >= 0.00001:\n",
    "        x = x01\n",
    "    elif max(x10) >= 0.00001:\n",
    "        x = x10\n",
    "    else:\n",
    "        x = x11      \n",
    "    return phase(x)\n",
    "    \n",
    "def cancel_global_shift4(x00,x01,x10,x11):\n",
    "    p = global_phase4(x00,x01,x10,x11)\n",
    "    x00_ = np.roll(x00,-p)\n",
    "    x01_ = np.roll(x01,-p)\n",
    "    x10_ = np.roll(x10,-p)\n",
    "    x11_ = np.roll(x11,-p)\n",
    "    return x00_,x01_,x10_,x11_\n",
    "\n",
    "def global_phase8(x000,x001,x010,x011,x100,x101,x110,x111):\n",
    "    if max(x000) >= 0.00001:\n",
    "        x = x000\n",
    "    elif max(x001) >= 0.00001:\n",
    "        x = x001\n",
    "    elif max(x010) >= 0.00001:\n",
    "        x = x010\n",
    "    elif max(x011) >= 0.00001:\n",
    "        x = x011\n",
    "    elif max(x100) >= 0.00001:\n",
    "        x = x100\n",
    "    elif max(x101) >= 0.00001:\n",
    "        x = x101\n",
    "    elif max(x110) >= 0.00001:\n",
    "        x = x110\n",
    "    else:\n",
    "        x = x111\n",
    "    return phase(x)\n",
    "    \n",
    "def cancel_global_shift8(x000,x001,x010,x011,x100,x101,x110,x111):\n",
    "    p = global_phase8(x000,x001,x010,x011,x100,x101,x110,x111)\n",
    "    x000_ = np.roll(x000,-p)\n",
    "    x001_ = np.roll(x001,-p)\n",
    "    x010_ = np.roll(x010,-p)\n",
    "    x011_ = np.roll(x011,-p)\n",
    "    x100_ = np.roll(x100,-p)\n",
    "    x101_ = np.roll(x101,-p)\n",
    "    x110_ = np.roll(x110,-p)\n",
    "    x111_ = np.roll(x111,-p)\n",
    "    return x000_,x001_,x010_,x011_,x100_,x101_,x110_,x111_"
   ]
  },
  {
   "cell_type": "markdown",
   "id": "a0fa7fe3-04f9-4a2f-b291-a462631e95d0",
   "metadata": {},
   "source": [
    "## 量子ビットの合成"
   ]
  },
  {
   "cell_type": "code",
   "execution_count": 22,
   "id": "08563923-9845-4dcf-bf10-1fa17cc3bed2",
   "metadata": {},
   "outputs": [],
   "source": [
    "def merge1to2(q0,q1,q00,q01,q10,q11):\n",
    "    # 初期の各量子bit列の波の軸\n",
    "    q000 = np.roll(q0*max(q00),phase(q00))\n",
    "    q001 = np.roll(q0*max(q01),phase(q01))\n",
    "    q010 = np.roll(q0*max(q10),phase(q10))\n",
    "    q011 = np.roll(q0*max(q11),phase(q11))\n",
    "    q100 = np.roll(q1*max(q00),phase(q00))\n",
    "    q101 = np.roll(q1*max(q01),phase(q01))\n",
    "    q110 = np.roll(q1*max(q10),phase(q10))\n",
    "    q111 = np.roll(q1*max(q11),phase(q11))\n",
    "    return q000,q001,q010,q011,q100,q101,q110,q111"
   ]
  },
  {
   "cell_type": "markdown",
   "id": "df99bf1f-8c00-4783-b74a-90139f6baafd",
   "metadata": {},
   "source": [
    "# Let's Try"
   ]
  },
  {
   "cell_type": "markdown",
   "id": "da8bc189-39bb-49b3-8d7b-3e7d6b0007ac",
   "metadata": {},
   "source": [
    "## Quantum Key Distribution BB84"
   ]
  },
  {
   "cell_type": "markdown",
   "id": "d267ba26-5b21-44a9-b518-e7b8043baccd",
   "metadata": {},
   "source": [
    "### Alice"
   ]
  },
  {
   "cell_type": "code",
   "execution_count": 29,
   "id": "ff1bf299-e175-47a2-a0bf-f76161d66cc4",
   "metadata": {},
   "outputs": [],
   "source": [
    "#初期状態の設定\n",
    "q0,q1 = createBy1bit(Q1)"
   ]
  },
  {
   "cell_type": "code",
   "execution_count": 30,
   "id": "73b4a015-f418-4fb2-8059-3f7b7cb62bde",
   "metadata": {},
   "outputs": [],
   "source": [
    "#bitを|1>にする場合\n",
    "q0,q1 = x_gate(q0,q1)"
   ]
  },
  {
   "cell_type": "code",
   "execution_count": 31,
   "id": "9d356515-f992-410f-bd9d-816097633013",
   "metadata": {},
   "outputs": [
    {
     "data": {
      "image/png": "[encoded data removed]",
      "text/plain": [
       "<Figure size 640x480 with 1 Axes>"
      ]
     },
     "metadata": {},
     "output_type": "display_data"
    }
   ],
   "source": [
    "# Aliceが送りたい値\n",
    "draw_2amp(q0,q1)"
   ]
  },
  {
   "cell_type": "code",
   "execution_count": 36,
   "id": "cc1e36ad-70c7-49bf-84c3-fb952d0f8ed1",
   "metadata": {},
   "outputs": [],
   "source": [
    "#基底を変える場合\n",
    "q0,q1 = h_gate(q0,q1)"
   ]
  },
  {
   "cell_type": "code",
   "execution_count": 37,
   "id": "2df7b88a-6c36-4251-a952-36e874c9eb2a",
   "metadata": {},
   "outputs": [
    {
     "data": {
      "image/png": "[encoded data removed]",
      "text/plain": [
       "<Figure size 640x480 with 1 Axes>"
      ]
     },
     "metadata": {},
     "output_type": "display_data"
    },
    {
     "data": {
      "image/png": "[encoded data removed]",
      "text/plain": [
       "<Figure size 800x400 with 2 Axes>"
      ]
     },
     "metadata": {},
     "output_type": "display_data"
    },
    {
     "data": {
      "text/plain": [
       "<Figure size 640x480 with 0 Axes>"
      ]
     },
     "metadata": {},
     "output_type": "display_data"
    }
   ],
   "source": [
    "# 実際に送られる量子状態\n",
    "draw_2amp(q0,q1)\n",
    "draw_2phase(q0,q1)"
   ]
  },
  {
   "cell_type": "markdown",
   "id": "388a1f92-fb5e-4ceb-b4c6-2394bac2edb4",
   "metadata": {},
   "source": [
    "### Bob"
   ]
  },
  {
   "cell_type": "code",
   "execution_count": 38,
   "id": "3d3bf77b-ba28-48b3-b08a-1fcaa8a4cda8",
   "metadata": {},
   "outputs": [],
   "source": [
    "#基底を変える場合\n",
    "q0,q1 = h_gate(q0,q1)"
   ]
  },
  {
   "cell_type": "code",
   "execution_count": 39,
   "id": "a6644c41-fba7-48bc-84f9-2e267a7efa9b",
   "metadata": {},
   "outputs": [
    {
     "data": {
      "image/png": "[encoded data removed]",
      "text/plain": [
       "<Figure size 640x480 with 1 Axes>"
      ]
     },
     "metadata": {},
     "output_type": "display_data"
    }
   ],
   "source": [
    "# Bobが解釈した量子状態\n",
    "draw_2amp(q0,q1)"
   ]
  },
  {
   "cell_type": "code",
   "execution_count": null,
   "id": "0eeeb771-0f44-469a-b22b-79378fddcd70",
   "metadata": {},
   "outputs": [],
   "source": []
  }
 ],
 "metadata": {
  "kernelspec": {
   "display_name": "Python 3 (ipykernel)",
   "language": "python",
   "name": "python3"
  },
  "language_info": {
   "codemirror_mode": {
    "name": "ipython",
    "version": 3
   },
   "file_extension": ".py",
   "mimetype": "text/x-python",
   "name": "python",
   "nbconvert_exporter": "python",
   "pygments_lexer": "ipython3",
   "version": "3.12.1"
  }
 },
 "nbformat": 4,
 "nbformat_minor": 5
}
