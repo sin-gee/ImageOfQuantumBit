{
 "cells": [
  {
   "cell_type": "markdown",
   "id": "9ecd3518-cd72-4027-8e42-289f78e84c36",
   "metadata": {},
   "source": [
    "# 量子ビットを理解する（振幅増幅）"
   ]
  },
  {
   "cell_type": "code",
   "execution_count": null,
   "id": "9a94ad8b-c862-4b8c-97a9-01d5cb64b157",
   "metadata": {},
   "outputs": [],
   "source": [
    "!pip install -U pip\n",
    "!pip install numpy matplotlib ipython "
   ]
  },
  {
   "cell_type": "code",
   "execution_count": 36,
   "id": "305f407c-2afb-41c8-bc11-a86fb61295de",
   "metadata": {},
   "outputs": [],
   "source": [
    "import numpy as np\n",
    "import math\n",
    "import matplotlib.pyplot as plt\n",
    "from mpl_toolkits.mplot3d import Axes3D\n",
    "import matplotlib.patches as patches"
   ]
  },
  {
   "cell_type": "markdown",
   "id": "91d71c1a-b613-4d2d-b554-aa2e92e4c1dc",
   "metadata": {},
   "source": [
    "## 初期状態の設定"
   ]
  },
  {
   "cell_type": "code",
   "execution_count": 37,
   "id": "775620c4-d8a9-407c-ad63-502247a15957",
   "metadata": {},
   "outputs": [],
   "source": [
    "#量子bit×2の生成\n",
    "\n",
    "#量子bit1\n",
    "phi_high  = math.pi*0.5 # ブロッホ球での|0>からの角度\n",
    "shift_high= math.pi*0 # 位相差\n",
    "#量子bit2\n",
    "phi_low   = math.pi*0.5 # ブロッホ球での|0>からの角度\n",
    "shift_low = math.pi*0 # 位相差"
   ]
  },
  {
   "cell_type": "markdown",
   "id": "3cbe6cbf-64de-4d7c-b27d-696bf47d132f",
   "metadata": {},
   "source": [
    "## 諸元算出"
   ]
  },
  {
   "cell_type": "code",
   "execution_count": 38,
   "id": "e6fed364-abb3-4d0e-9b36-d5aadfe3dbf4",
   "metadata": {},
   "outputs": [],
   "source": [
    "# 初期の各量子bit列の波\n",
    "yo = np.arange(0,2*math.pi,0.01)\n",
    "\n",
    "q_00 = (math.cos(phi_high/2) * math.cos(phi_low/2))*np.sin(yo)\n",
    "q_01 = (math.cos(phi_high/2) * math.sin(phi_low/2))*np.sin(yo-shift_low)\n",
    "q_10 = (math.sin(phi_high/2) * math.cos(phi_low/2))*np.sin(yo-shift_high)\n",
    "q_11 = (math.sin(phi_high/2) * math.sin(phi_low/2))*np.sin(yo- ((shift_high+shift_low-math.pi*2) if (shift_high+shift_low >math.pi*2.0) else (shift_high+shift_low)))"
   ]
  },
  {
   "cell_type": "code",
   "execution_count": 1,
   "id": "20ff0dee-d387-4200-a001-5ada17b0c19a",
   "metadata": {},
   "outputs": [],
   "source": [
    "# 波描画\n",
    "def draw_waves(q00,q01,q10,q11):\n",
    "    fig = plt.figure(figsize=(16,10)) #図のサイズを決定\n",
    "    ax_00 = fig.add_subplot(4,1,1)\n",
    "    ax_01 = fig.add_subplot(4,1,2)\n",
    "    ax_10 = fig.add_subplot(4,1,3)\n",
    "    ax_11 = fig.add_subplot(4,1,4)\n",
    "\n",
    "    ax_00.plot(yo,q00)\n",
    "    ax_01.plot(yo,q01)\n",
    "    ax_10.plot(yo,q10)\n",
    "    ax_11.plot(yo,q11)\n",
    "\n",
    "    ax_00.set_xticks([0, 1.57,3.14, 4.71,6.28], [\"0\", \"1/2π\", \"π\",\"3/2π\",\"2π\"])\n",
    "    ax_01.set_xticks([0, 1.57,3.14, 4.71,6.28], [\"0\", \"1/2π\", \"π\",\"3/2π\",\"2π\"])\n",
    "    ax_10.set_xticks([0, 1.57,3.14, 4.71,6.28], [\"0\", \"1/2π\", \"π\",\"3/2π\",\"2π\"])\n",
    "    ax_11.set_xticks([0, 1.57,3.14, 4.71,6.28], [\"0\", \"1/2π\", \"π\",\"3/2π\",\"2π\"])\n",
    "\n",
    "    ax_00.set_ylim(-1.1,1.1)\n",
    "    ax_01.set_ylim(-1.1,1.1)\n",
    "    ax_10.set_ylim(-1.1,1.1)\n",
    "    ax_11.set_ylim(-1.1,1.1)\n",
    "\n",
    "    ax_00.set_title(\"|00>\")\n",
    "    ax_01.set_title(\"|01>\")\n",
    "    ax_10.set_title(\"|10>\")\n",
    "    ax_11.set_title(\"|11>\")\n",
    "\n",
    "    plt.subplots_adjust(hspace=0.4)\n",
    "\n",
    "    plt.show()\n",
    "\n",
    "    return"
   ]
  },
  {
   "cell_type": "code",
   "execution_count": 2,
   "id": "ad2c5909-21a4-48a6-8580-9f4ac56bd551",
   "metadata": {},
   "outputs": [],
   "source": [
    "def draw_amp(q00,q01,q10,q11):\n",
    "# 振幅描画\n",
    "\n",
    "    from matplotlib import rcParams\n",
    "    plt.rcParams[\"font.family\"] = \"MS Gothic\"\n",
    "\n",
    "    fig = plt.figure()\n",
    "    ax = fig.subplots()\n",
    "\n",
    "    # データの準備\n",
    "    categories = ['|00>', '|01>', '|10>','|11>']\n",
    "    values = [max(q00)**2, max(q01)**2, max(q10)**2, max(q11)**2]\n",
    "\n",
    "    # 棒グラフの作成\n",
    "    ax.bar(categories, values)\n",
    "\n",
    "    # タイトルとラベルの追加\n",
    "    ax.set_title('振幅')\n",
    "    ax.set_ylim(0,1.1)\n",
    "\n",
    "    # グラフの表示\n",
    "    plt.show()\n",
    "\n",
    "    return"
   ]
  },
  {
   "cell_type": "code",
   "execution_count": 3,
   "id": "6d34009d-3501-48fe-abcb-4aba0b292c2d",
   "metadata": {},
   "outputs": [],
   "source": [
    "# 位相描画\n",
    "def draw_phase(q00,q01,q10,q11):\n",
    "\n",
    "    fig = plt.figure(figsize=(16,10)) #図のサイズを決定\n",
    "    ax_00 = fig.add_subplot(1,4,1)\n",
    "    ax_01 = fig.add_subplot(1,4,2)\n",
    "    ax_10 = fig.add_subplot(1,4,3)\n",
    "    ax_11 = fig.add_subplot(1,4,4)\n",
    "    fig = plt.figure()\n",
    "\n",
    "    shape00 = patches.Circle(xy=(0,0), radius=1, facecolor=\"white\", edgecolor=\"black\", linewidth=1)\n",
    "    shape01 = patches.Circle(xy=(0,0), radius=1, facecolor=\"white\", edgecolor=\"black\", linewidth=1)\n",
    "    shape10 = patches.Circle(xy=(0,0), radius=1, facecolor=\"white\", edgecolor=\"black\", linewidth=1)\n",
    "    shape11 = patches.Circle(xy=(0,0), radius=1, facecolor=\"white\", edgecolor=\"black\", linewidth=1)\n",
    "\n",
    "    lngt = len(q00)\n",
    "    print(lngt)\n",
    "    s00 = s01 =s10 = s11 = 0\n",
    "    if max(q00) >= 0.0001:\n",
    "        for i in range(lngt*2):\n",
    "            if q00[i%lngt] <= 0.0:\n",
    "                if q00[(i+1)%lngt] >= 0.0:\n",
    "                   break\n",
    "        s00 = i/lngt* 2*math.pi\n",
    "    if max(q01) >= 0.0001:\n",
    "        for i in range(lngt*2):\n",
    "            if q01[i%lngt] <= 0.0:\n",
    "                if q01[(i+1)%lngt] >= 0.0:\n",
    "                    break\n",
    "        s01 = i/lngt * 2*math.pi\n",
    "    if max(q10) >= 0.0001:\n",
    "        for i in range(lngt*2):\n",
    "            if q10[i%lngt] <= 0.0:\n",
    "                if q10[(i+1)%lngt] >= 0.0:\n",
    "                    break\n",
    "        s10 = i/lngt * 2*math.pi\n",
    "    if max(q11) >= 0.0001:\n",
    "        for i in range(lngt*2):\n",
    "            if q11[i%lngt] <= 0.0:\n",
    "                if q11[(i+1)%lngt] >= 0.0:\n",
    "                    break\n",
    "        s11 = i/lngt * 2*math.pi\n",
    "\n",
    "    ax_00.add_patch(shape00)\n",
    "    ax_00.plot([0,np.sin(s00)],[0,np.cos(s00)],color='gray')\n",
    "    ax_00.set_xlim(-1.1,1.1)\n",
    "    ax_00.set_ylim(-1.1,1.1)\n",
    "    ax_00.set_title('|00>')\n",
    "    ax_00.set_aspect('equal')\n",
    "    ax_00.axis('off')\n",
    "    ax_00.text(-0.15,-1.25,str(round(s00/math.pi,2)),color='black',fontsize=16)\n",
    "\n",
    "    ax_01.add_patch(shape01)\n",
    "    ax_01.plot([0,np.sin(s01)],[0,np.cos(s01)],color='gray')\n",
    "    ax_01.set_xlim(-1.1,1.1)\n",
    "    ax_01.set_ylim(-1.1,1.1)\n",
    "    ax_01.set_aspect('equal')\n",
    "    ax_01.set_title('|01>')\n",
    "    ax_01.axis('off')\n",
    "    ax_01.text(-0.15,-1.25,str(round(s01/math.pi,2)),color='black',fontsize=16)\n",
    "\n",
    "    ax_10.add_patch(shape10)\n",
    "    ax_10.plot([0,np.sin(s10)],[0,np.cos(s10)],color='gray')\n",
    "    ax_10.set_xlim(-1.1,1.1)\n",
    "    ax_10.set_ylim(-1.1,1.1)\n",
    "    ax_10.set_aspect('equal')\n",
    "    ax_10.set_title('|10>')\n",
    "    ax_10.axis('off')\n",
    "    ax_10.text(-0.15,-1.25,str(round(s10/math.pi,2)),color='black',fontsize=16)\n",
    "\n",
    "    ax_11.add_patch(shape11)\n",
    "    ax_11.plot([0,np.sin(s11)],[0,np.cos(s11)],color='gray')\n",
    "    ax_11.set_xlim(-1.1,1.1)\n",
    "    ax_11.set_ylim(-1.1,1.1)\n",
    "    ax_11.set_aspect('equal')\n",
    "    ax_11.set_title('|11>')\n",
    "    ax_11.axis('off')\n",
    "    ax_11.text(-0.15,-1.25,str(round(s11/math.pi,2)),color='black',fontsize=16)\n",
    "\n",
    "    plt.show()\n",
    "\n",
    "    return"
   ]
  },
  {
   "cell_type": "markdown",
   "id": "a63d1bf9-e6c3-499b-9816-ca11a43be100",
   "metadata": {},
   "source": [
    "# 以下 関数の定義"
   ]
  },
  {
   "cell_type": "markdown",
   "id": "03102651-0cb1-4b15-a21c-6af559d87767",
   "metadata": {},
   "source": [
    "# 単量子ゲート"
   ]
  },
  {
   "cell_type": "markdown",
   "id": "7d40c749-4184-47cb-a5b1-fea959e8a164",
   "metadata": {},
   "source": [
    "### アダマールゲート\n",
    "$$\n",
    "H =\n",
    "\\frac{1}{\\sqrt{2}}\n",
    "\\begin{pmatrix}\n",
    "1 & 1 \\\\\n",
    "1 & -1\n",
    "\\end{pmatrix}\n",
    "$$"
   ]
  },
  {
   "cell_type": "code",
   "execution_count": 42,
   "id": "e606a353-248b-4502-906f-4c5c383ca167",
   "metadata": {},
   "outputs": [],
   "source": [
    "#アダマール変換 \n",
    "# やっていること：|1>を反転させ、反時計周りに1/4π回転させる\n",
    "def h_gate(x,z):\n",
    "    x_ = ( x + z)/2**0.5\n",
    "    z_ = ( x - z)/2**0.5\n",
    "    return x_,z_"
   ]
  },
  {
   "cell_type": "markdown",
   "id": "ef0a3833-f84d-4641-bfa7-c3b77ae39fdd",
   "metadata": {},
   "source": [
    "### Tゲート\n",
    "$$\n",
    "T =\n",
    "\\begin{pmatrix}\n",
    "1 & 0 \\\\\n",
    "0 & exp(\\frac{i\\pi}{4})\n",
    "\\end{pmatrix}\n",
    "$$"
   ]
  },
  {
   "cell_type": "code",
   "execution_count": 43,
   "id": "ac406ee7-2ab2-45df-aac1-6a949cbb4753",
   "metadata": {},
   "outputs": [],
   "source": [
    "#Tゲート変換 \n",
    "# やっていること：|1>の位相を1/4π（45°）進める\n",
    "def t_gate(x,z):\n",
    "    x_ = x\n",
    "    z_ = np.roll(z,len(z)//8)\n",
    "    return x_,z_"
   ]
  },
  {
   "cell_type": "markdown",
   "id": "9d8d997a-5afb-48e3-bc29-d715af97a00b",
   "metadata": {},
   "source": [
    "### Sゲート\n",
    "$$\n",
    "S =\n",
    "\\begin{pmatrix}\n",
    "1 & 0 \\\\\n",
    "0 & exp(\\frac{i\\pi}{2})\n",
    "\\end{pmatrix}\n",
    "$$"
   ]
  },
  {
   "cell_type": "code",
   "execution_count": 44,
   "id": "5d55f4f2-32e9-4006-b61f-c708091f233c",
   "metadata": {},
   "outputs": [],
   "source": [
    "#Sゲート変換 \n",
    "# やっていること：|1>の位相を1/2π（90°）進める\n",
    "def s_gate(x,z):\n",
    "    x_ = x\n",
    "    z_ = np.roll(z,len(z)//4)\n",
    "    return x_,z_"
   ]
  },
  {
   "cell_type": "markdown",
   "id": "5a154ee6-fe4b-4dcb-ade4-8f060078e95e",
   "metadata": {},
   "source": [
    "### Xゲート\n",
    "$$\n",
    "X =\n",
    "\\begin{pmatrix}\n",
    "0 & 1 \\\\\n",
    "1 & 0\n",
    "\\end{pmatrix}\n",
    "$$"
   ]
  },
  {
   "cell_type": "code",
   "execution_count": 45,
   "id": "3de3d443-5a2c-4efd-a2f0-a0a31a7ff886",
   "metadata": {},
   "outputs": [],
   "source": [
    "#Xゲート変換 \n",
    "# やっていること：|0>←→|1>を交換する\n",
    "def x_gate(x,z):\n",
    "    x_ = z\n",
    "    z_ = x\n",
    "    return x_,z_"
   ]
  },
  {
   "cell_type": "markdown",
   "id": "0e275276-05e0-44b1-a686-9093dfddddf9",
   "metadata": {},
   "source": [
    "### Yゲート\n",
    "$$\n",
    "Y =\n",
    "\\begin{pmatrix}\n",
    "0 & exp(\\frac{-i\\pi}{2}) \\\\\n",
    "exp(\\frac{i\\pi}{2})  & 0\n",
    "\\end{pmatrix}\n",
    "$$"
   ]
  },
  {
   "cell_type": "code",
   "execution_count": 46,
   "id": "2ffab3a3-78c1-4e1f-a737-0e9ab19ad67a",
   "metadata": {},
   "outputs": [],
   "source": [
    "#Yゲート変換 \n",
    "# やっていること：|0>→i|1>、|1>→-i|0>\n",
    "def y_gate(x,z):\n",
    "    x_ = np.roll(z,len(z)//4)\n",
    "    z_ = np.roll(x,-len(x)//4)\n",
    "    return x_,z_"
   ]
  },
  {
   "cell_type": "markdown",
   "id": "16564039-1c1c-466c-a6ac-dab094d5dc61",
   "metadata": {},
   "source": [
    "### Zゲート\n",
    "$$\n",
    "Z =\n",
    "\\begin{pmatrix}\n",
    "1 & 0 \\\\\n",
    "0 & -1\n",
    "\\end{pmatrix}\n",
    "$$"
   ]
  },
  {
   "cell_type": "code",
   "execution_count": 47,
   "id": "3cf23fc9-1a9a-4737-a27d-f69160627a82",
   "metadata": {},
   "outputs": [],
   "source": [
    "#Zゲート変換 \n",
    "# やっていること：|1>の符号を反転させる\n",
    "def z_gate(x,z):\n",
    "    x_ = x\n",
    "    z_ = -z\n",
    "    return x_,z_"
   ]
  },
  {
   "cell_type": "markdown",
   "id": "5c6bd1f3-7345-4db7-a520-a294f559668d",
   "metadata": {},
   "source": [
    "## ２量子ゲート"
   ]
  },
  {
   "cell_type": "markdown",
   "id": "476be4aa-e83b-4609-b9fa-86a7d7791934",
   "metadata": {},
   "source": [
    "## アダマールゲート\n",
    "\n",
    "### 上下位ビットに対するゲート操作\n",
    "$\n",
    "H\n",
    "\\otimes\n",
    "H =\n",
    "\\frac{1}{\\sqrt{2}}\n",
    "\\begin{pmatrix}\n",
    "1\n",
    "\\otimes\n",
    "H\n",
    "&\n",
    "1\n",
    "\\otimes\n",
    "H\n",
    "\\\\\n",
    "1\n",
    "\\otimes\n",
    "H\n",
    "&\n",
    "-1\n",
    "\\otimes\n",
    "H\n",
    "\\end{pmatrix}\n",
    "=\n",
    "\\frac{1}{2}\n",
    "\\begin{pmatrix}\n",
    "1 & 1 & 1 & 1 \\\\\n",
    "1 & -1 & 1 & -1 \\\\\n",
    "1 & 1 & -1 & -1 \\\\\n",
    "1 & -1 & -1 & 1\n",
    "\\end{pmatrix}\n",
    "$"
   ]
  },
  {
   "cell_type": "code",
   "execution_count": 48,
   "id": "0386517b-f5f1-4822-92b7-01806f4a2b8f",
   "metadata": {},
   "outputs": [],
   "source": [
    "def hh_gate(q00,q01,q10,q11):\n",
    "    q00_ = (q00+q01+q10+q11)*0.5\n",
    "    q01_ = (q00-q01+q10-q11)*0.5\n",
    "    q10_ = (q00+q01-q10-q11)*0.5\n",
    "    q11_ = (q00-q01-q10+q11)*0.5\n",
    "    return q00_,q01_,q10_,q11_"
   ]
  },
  {
   "cell_type": "markdown",
   "id": "315512e5-a687-4592-a5ed-0930b0901852",
   "metadata": {},
   "source": [
    "### SWAP\n",
    "$\n",
    "\\begin{pmatrix}\n",
    "1 & 0 & 0 & 0 \\\\\n",
    "0 & 0 & 1 & 0 \\\\\n",
    "0 & 1 & 0 & 0 \\\\\n",
    "0 & 0 & 0 & 1\n",
    "\\end{pmatrix}\n",
    "$"
   ]
  },
  {
   "cell_type": "code",
   "execution_count": 49,
   "id": "0a593f4c-45d6-4d59-bd07-50ac945a200b",
   "metadata": {},
   "outputs": [],
   "source": [
    "#SWAP\n",
    "def swap(q01,q10):\n",
    "    q01_,q10_ = x_gate(q01,q10)\n",
    "    return q01_,q10_"
   ]
  },
  {
   "cell_type": "markdown",
   "id": "73407a61-f63f-4f05-bbfc-f524dcd64f78",
   "metadata": {},
   "source": [
    "### CX(high bit control)\n",
    "$\n",
    "\\begin{pmatrix}\n",
    "1 & 0 & 0 & 0 \\\\\n",
    "0 & 1 & 0 & 0 \\\\\n",
    "0 & 0 & 0 & 1 \\\\\n",
    "0 & 0 & 1 & 0\n",
    "\\end{pmatrix}\n",
    "$\n",
    "\n",
    "### CX(low bit control)\n",
    "$\n",
    "\\begin{pmatrix}\n",
    "1 & 0 & 0 & 0 \\\\\n",
    "0 & 0 & 0 & 1 \\\\\n",
    "0 & 0 & 1 & 0 \\\\\n",
    "0 & 1 & 0 & 0\n",
    "\\end{pmatrix}\n",
    "$"
   ]
  },
  {
   "cell_type": "code",
   "execution_count": 50,
   "id": "74157eb5-b928-4cdd-8dd0-a47c9d77bb49",
   "metadata": {},
   "outputs": [],
   "source": [
    "#cx(Highをコントロールビット、lowを標的ビットとした場合)\n",
    "def cx_high_control(q00,q01,q10,q11):\n",
    "    q10_,q11_ = x_gate(q10,q11)\n",
    "    return q00,q01,q10_,q11_"
   ]
  },
  {
   "cell_type": "code",
   "execution_count": 51,
   "id": "47058ccc-6d09-44cd-a124-79539401ea30",
   "metadata": {},
   "outputs": [],
   "source": [
    "#cx(Highを標的ビット、lowをコントロールビットとした場合)\n",
    "def cx_low_control(q00,q01,q10,q11):\n",
    "    q01_,q11_ = x_gate(q01,q11)\n",
    "    return q00,q01_,q10,q11_"
   ]
  },
  {
   "cell_type": "markdown",
   "id": "f225cc82-d41a-4a92-b227-9af350ef4f06",
   "metadata": {},
   "source": [
    "## X$\\otimes$Xゲート\n",
    "$\n",
    "X\n",
    "\\otimes\n",
    "X =\n",
    "\\begin{pmatrix}\n",
    "0\n",
    "\\otimes\n",
    "X\n",
    "&\n",
    "1\n",
    "\\otimes\n",
    "X\n",
    "\\\\\n",
    "1\n",
    "\\otimes\n",
    "X\n",
    "&\n",
    "0\n",
    "\\otimes\n",
    "X\n",
    "\\end{pmatrix}\n",
    "=\n",
    "\\begin{pmatrix}\n",
    "0 & 0 & 0 & 1 \\\\\n",
    "0 & 0 & 1 & 0 \\\\\n",
    "0 & 1 & 0 & 0 \\\\\n",
    "1 & 0 & 0 & 0\n",
    "\\end{pmatrix}\n",
    "$"
   ]
  },
  {
   "cell_type": "code",
   "execution_count": 52,
   "id": "58201be6-d98e-4e01-b9ce-878487380dad",
   "metadata": {},
   "outputs": [],
   "source": [
    "def xx_gate(q00,q01,q10,q11):\n",
    "    q01_,q10_ = x_gate(q01,q10)\n",
    "    q00_,q11_ = x_gate(q00,q11)\n",
    "    return q00_,q01_,q10_,q11_"
   ]
  },
  {
   "cell_type": "markdown",
   "id": "3f071820-b5d8-40aa-a21e-c7fe351e4551",
   "metadata": {},
   "source": [
    "## 汎用Zゲート"
   ]
  },
  {
   "cell_type": "code",
   "execution_count": 53,
   "id": "806e4983-9c45-4116-a937-e661ee9926e2",
   "metadata": {},
   "outputs": [],
   "source": [
    "#汎用Zゲート \n",
    "def z_gate(q00,q01,q10,q11,target):\n",
    "    if target=='00':\n",
    "      q00_ = -q00\n",
    "      q01_ = q01\n",
    "      q10_ = q10\n",
    "      q11_ = q11\n",
    "    elif target=='01':\n",
    "      q00_ = q00\n",
    "      q01_ = -q01\n",
    "      q10_ = q10\n",
    "      q11_ = q11\n",
    "    elif target=='10':\n",
    "      q00_ = q00\n",
    "      q01_ = q01\n",
    "      q10_ = -q10\n",
    "      q11_ = q11 \n",
    "    elif target=='11':\n",
    "      q00_ = q00\n",
    "      q01_ = q01\n",
    "      q10_ = q10\n",
    "      q11_ = -q11\n",
    "    else:\n",
    "      q00_ = q00\n",
    "      q01_ = q01\n",
    "      q10_ = q10\n",
    "      q11_ = q11\n",
    "      print('CZ gate not changed')\n",
    "    return q00_,q01_,q10_,q11_"
   ]
  },
  {
   "cell_type": "markdown",
   "id": "e6f7fc95-f301-4308-af6c-8b1746e4cbe9",
   "metadata": {},
   "source": [
    "### グローバル位相のキャンセル"
   ]
  },
  {
   "cell_type": "code",
   "execution_count": 60,
   "id": "98dfa5e8-4735-484b-9412-1affc87f8998",
   "metadata": {},
   "outputs": [],
   "source": [
    "def cancel_global_shift(x00,x01,x10,x11):\n",
    "\n",
    "    lngt = len(x00)\n",
    "    if max(x00) >= 0.0001:\n",
    "        for i in range(lngt*2):\n",
    "            if x00[i%lngt] <= 0.0:\n",
    "                if x00[(i+1)%lngt] >= 0.0:\n",
    "                    break\n",
    "    elif max(x01) >= 0.0001:\n",
    "         for i in range(lngt*2):\n",
    "            if x01[i%lngt] <= 0.0:\n",
    "                if x01[(i+1)%lngt] >= 0.0:\n",
    "                    break\n",
    "    elif max(x10) >= 0.0001:\n",
    "         for i in range(lngt*2):\n",
    "            if x10[i%lngt] <= 0.0:\n",
    "                if x10[(i+1)%lngt] >= 0.0:\n",
    "                    break\n",
    "    else:\n",
    "         for i in range(lngt*2):\n",
    "            if x11[i%lngt] <= 0.0:\n",
    "                if x11[(i+1)%lngt] >= 0.0:\n",
    "                    break\n",
    "    x00_ = np.roll(x00,-i)\n",
    "    x01_ = np.roll(x01,-i)\n",
    "    x10_ = np.roll(x10,-i)\n",
    "    x11_ = np.roll(x11,-i)\n",
    "    return x00_,x01_,x10_,x11_"
   ]
  },
  {
   "cell_type": "markdown",
   "id": "2bdc632c-1ef5-46b4-b6bd-d17d1638e443",
   "metadata": {},
   "source": [
    "# Let's try !"
   ]
  },
  {
   "cell_type": "markdown",
   "id": "e455eb76-7cbb-4633-a85a-16854f0f0e80",
   "metadata": {},
   "source": [
    "## Oracle"
   ]
  },
  {
   "cell_type": "code",
   "execution_count": 54,
   "id": "8f0f980c-cfcb-454a-89d9-c1ea1cf05013",
   "metadata": {},
   "outputs": [],
   "source": [
    "# call CZ gate\n",
    "q_00,q_01,q_10,q_11 = z_gate(q_00,q_01,q_10,q_11,'11')"
   ]
  },
  {
   "cell_type": "markdown",
   "id": "ce052a6d-d8bb-4f21-b281-cfd697700b01",
   "metadata": {},
   "source": [
    "## Grover"
   ]
  },
  {
   "cell_type": "code",
   "execution_count": 61,
   "id": "b965ce7a-67c4-43b1-a9c4-0434144eb96c",
   "metadata": {},
   "outputs": [],
   "source": [
    "def grover(q00,q01,q10,q11):\n",
    "    q00_,q01_,q10_,q11_ = hh_gate(q00,q01,q10,q11)\n",
    "    q00_,q01_,q10_,q11_ = xx_gate(q00_,q01_,q10_,q11_)\n",
    "    q00_,q01_,q10_,q11_ = z_gate(q00_,q01_,q10_,q11_,'11')\n",
    "    q00_,q01_,q10_,q11_ = xx_gate(q00_,q01_,q10_,q11_)\n",
    "    q00_,q01_,q10_,q11_ = hh_gate(q00_,q01_,q10_,q11_)\n",
    "    return q00_,q01_,q10_,q11_"
   ]
  },
  {
   "cell_type": "code",
   "execution_count": 62,
   "id": "805f60bb-6455-466c-8ade-fa07ded14575",
   "metadata": {},
   "outputs": [],
   "source": [
    "#  call Grover\n",
    "q_00,q_01,q_10,q_11 = grover(q_00,q_01,q_10,q_11)"
   ]
  },
  {
   "cell_type": "code",
   "execution_count": null,
   "id": "966cc039-d451-4eed-8905-3e1463adbf01",
   "metadata": {},
   "outputs": [],
   "source": []
  }
 ],
 "metadata": {
  "kernelspec": {
   "display_name": "Python 3 (ipykernel)",
   "language": "python",
   "name": "python3"
  },
  "language_info": {
   "codemirror_mode": {
    "name": "ipython",
    "version": 3
   },
   "file_extension": ".py",
   "mimetype": "text/x-python",
   "name": "python",
   "nbconvert_exporter": "python",
   "pygments_lexer": "ipython3",
   "version": "3.12.1"
  }
 },
 "nbformat": 4,
 "nbformat_minor": 5
}
